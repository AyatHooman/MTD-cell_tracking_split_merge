{
 "cells": [
  {
   "cell_type": "code",
   "execution_count": 1,
   "metadata": {},
   "outputs": [],
   "source": [
    "# Title: MTD-SplitMerge Processing Script\n",
    "# Author: Hooman Ayat\n",
    "# Email: hooman.ayat86@gmail.com\n",
    "# Date Created: 2024-10-18\n",
    "# Last Modified: 2024-10-18\n",
    "\n",
    "# Description:\n",
    "# Step 1 ConvolutionProcessor: Create Convolved Maps in Separate Files\n",
    "# - Separate the inputs into multiple files, each of which should have one timestep. However, the sperated files should have time dimension. \n",
    "# - Note: This is a prepropeccsing step that you may have to this yourself!\n",
    "\n",
    "# Step 2 MergerProcessor: Merge the Convolved Maps\n",
    "# - After creating the convolved maps, merge them all together.\n",
    "# - Note: Merging is limited to each season in every year to avoid producing oversized files.\n",
    "\n",
    "# Step 3 ObjectTrackerProcessor: Track Objects Using the Label Package\n",
    "# - Run the label package on the merged outputs to track the objects.\n",
    "# - The output will include two folders:\n",
    "#   1) A folder containing the labeled merged outputs.\n",
    "#   2) A folder with information regarding the splitting and merging of objects.\n",
    "\n",
    "# Step 4 ObjectPropertiesProcessor: Calculate Object Properties\n",
    "# - In this step, calculate properties of individual objects, such as area, shape, and intensity.\n",
    "\n",
    "# Step 5 SystemPropertiesProcessor: Calculate System Properties\n",
    "# - In this step, calculate properties of the overall system, including velocity and direction.\n",
    "\n",
    "# References:\n",
    "# - https://link.springer.com/article/10.1007/s00382-022-06404-z\n",
    "# - https://journals.ametsoc.org/view/journals/hydr/22/1/jhm-d-20-0187.1.xml\n",
    "# - https://www.science.org/doi/abs/10.1126/science.abn8657\n",
    "\n",
    "# If you have any questions, please contact me at: hooman.ayat86@gmail.com\n"
   ]
  },
  {
   "cell_type": "code",
   "execution_count": 1,
   "metadata": {},
   "outputs": [
    {
     "name": "stdout",
     "output_type": "stream",
     "text": [
      "Processing file: C:\\Users\\h.ayat\\Desktop\\Object_tracking\\MRMS-Sample_data\\inputs\\PrecipRate_00.00_20141101-153000_double_double.nc\n",
      "Saved convolved file to: C:\\Users\\h.ayat\\Desktop\\Object_tracking\\MRMS-Sample_data\\outputs\\convolved_maps\\convolved_20141101T1502.nc\n",
      "Processing file: C:\\Users\\h.ayat\\Desktop\\Object_tracking\\MRMS-Sample_data\\inputs\\PrecipRate_00.00_20141101-160000_double_double.nc\n",
      "Saved convolved file to: C:\\Users\\h.ayat\\Desktop\\Object_tracking\\MRMS-Sample_data\\outputs\\convolved_maps\\convolved_20141101T1532.nc\n",
      "Processing file: C:\\Users\\h.ayat\\Desktop\\Object_tracking\\MRMS-Sample_data\\inputs\\PrecipRate_00.00_20141101-163000_double_double.nc\n",
      "Saved convolved file to: C:\\Users\\h.ayat\\Desktop\\Object_tracking\\MRMS-Sample_data\\outputs\\convolved_maps\\convolved_20141101T1602.nc\n",
      "Processing file: C:\\Users\\h.ayat\\Desktop\\Object_tracking\\MRMS-Sample_data\\inputs\\PrecipRate_00.00_20141101-233000_double_double.nc\n",
      "Saved convolved file to: C:\\Users\\h.ayat\\Desktop\\Object_tracking\\MRMS-Sample_data\\outputs\\convolved_maps\\convolved_20141101T2302.nc\n",
      "Processing file: C:\\Users\\h.ayat\\Desktop\\Object_tracking\\MRMS-Sample_data\\inputs\\PrecipRate_00.00_20141102-000000_double_double.nc\n",
      "Saved convolved file to: C:\\Users\\h.ayat\\Desktop\\Object_tracking\\MRMS-Sample_data\\outputs\\convolved_maps\\convolved_20141101T2332.nc\n",
      "Processing file: C:\\Users\\h.ayat\\Desktop\\Object_tracking\\MRMS-Sample_data\\inputs\\PrecipRate_00.00_20141102-003000_double_double.nc\n",
      "Saved convolved file to: C:\\Users\\h.ayat\\Desktop\\Object_tracking\\MRMS-Sample_data\\outputs\\convolved_maps\\convolved_20141102T0002.nc\n",
      "Processing file: C:\\Users\\h.ayat\\Desktop\\Object_tracking\\MRMS-Sample_data\\inputs\\PrecipRate_00.00_20141102-013000_double_double.nc\n",
      "Saved convolved file to: C:\\Users\\h.ayat\\Desktop\\Object_tracking\\MRMS-Sample_data\\outputs\\convolved_maps\\convolved_20141102T0102.nc\n",
      "Processing file: C:\\Users\\h.ayat\\Desktop\\Object_tracking\\MRMS-Sample_data\\inputs\\PrecipRate_00.00_20141102-023000_double_double.nc\n",
      "Saved convolved file to: C:\\Users\\h.ayat\\Desktop\\Object_tracking\\MRMS-Sample_data\\outputs\\convolved_maps\\convolved_20141102T0202.nc\n",
      "Processing file: C:\\Users\\h.ayat\\Desktop\\Object_tracking\\MRMS-Sample_data\\inputs\\PrecipRate_00.00_20141102-030000_double_double.nc\n",
      "Saved convolved file to: C:\\Users\\h.ayat\\Desktop\\Object_tracking\\MRMS-Sample_data\\outputs\\convolved_maps\\convolved_20141102T0232.nc\n",
      "Processing file: C:\\Users\\h.ayat\\Desktop\\Object_tracking\\MRMS-Sample_data\\inputs\\PrecipRate_00.00_20141102-033000_double_double.nc\n",
      "Saved convolved file to: C:\\Users\\h.ayat\\Desktop\\Object_tracking\\MRMS-Sample_data\\outputs\\convolved_maps\\convolved_20141102T0302.nc\n",
      "Processing file: C:\\Users\\h.ayat\\Desktop\\Object_tracking\\MRMS-Sample_data\\inputs\\PrecipRate_00.00_20141102-043000_double_double.nc\n",
      "Saved convolved file to: C:\\Users\\h.ayat\\Desktop\\Object_tracking\\MRMS-Sample_data\\outputs\\convolved_maps\\convolved_20141102T0402.nc\n",
      "Processing file: C:\\Users\\h.ayat\\Desktop\\Object_tracking\\MRMS-Sample_data\\inputs\\PrecipRate_00.00_20141103-123000_double_double.nc\n",
      "Saved convolved file to: C:\\Users\\h.ayat\\Desktop\\Object_tracking\\MRMS-Sample_data\\outputs\\convolved_maps\\convolved_20141103T1204.nc\n",
      "Processing file: C:\\Users\\h.ayat\\Desktop\\Object_tracking\\MRMS-Sample_data\\inputs\\PrecipRate_00.00_20141103-203000_double_double.nc\n",
      "Saved convolved file to: C:\\Users\\h.ayat\\Desktop\\Object_tracking\\MRMS-Sample_data\\outputs\\convolved_maps\\convolved_20141103T2002.nc\n",
      "Processing file: C:\\Users\\h.ayat\\Desktop\\Object_tracking\\MRMS-Sample_data\\inputs\\PrecipRate_00.00_20141103-210000_double_double.nc\n",
      "Saved convolved file to: C:\\Users\\h.ayat\\Desktop\\Object_tracking\\MRMS-Sample_data\\outputs\\convolved_maps\\convolved_20141103T2032.nc\n",
      "Processing file: C:\\Users\\h.ayat\\Desktop\\Object_tracking\\MRMS-Sample_data\\inputs\\PrecipRate_00.00_20141103-220000_double_double.nc\n",
      "Saved convolved file to: C:\\Users\\h.ayat\\Desktop\\Object_tracking\\MRMS-Sample_data\\outputs\\convolved_maps\\convolved_20141103T2132.nc\n",
      "Processing file: C:\\Users\\h.ayat\\Desktop\\Object_tracking\\MRMS-Sample_data\\inputs\\PrecipRate_00.00_20141103-223000_double_double.nc\n",
      "Saved convolved file to: C:\\Users\\h.ayat\\Desktop\\Object_tracking\\MRMS-Sample_data\\outputs\\convolved_maps\\convolved_20141103T2202.nc\n",
      "Processing file: C:\\Users\\h.ayat\\Desktop\\Object_tracking\\MRMS-Sample_data\\inputs\\PrecipRate_00.00_20141103-230000_double_double.nc\n",
      "Saved convolved file to: C:\\Users\\h.ayat\\Desktop\\Object_tracking\\MRMS-Sample_data\\outputs\\convolved_maps\\convolved_20141103T2232.nc\n",
      "Processing file: C:\\Users\\h.ayat\\Desktop\\Object_tracking\\MRMS-Sample_data\\inputs\\PrecipRate_00.00_20141103-233000_double_double.nc\n",
      "Saved convolved file to: C:\\Users\\h.ayat\\Desktop\\Object_tracking\\MRMS-Sample_data\\outputs\\convolved_maps\\convolved_20141103T2302.nc\n",
      "Processing file: C:\\Users\\h.ayat\\Desktop\\Object_tracking\\MRMS-Sample_data\\inputs\\PrecipRate_00.00_20141104-003000_double_double.nc\n",
      "Saved convolved file to: C:\\Users\\h.ayat\\Desktop\\Object_tracking\\MRMS-Sample_data\\outputs\\convolved_maps\\convolved_20141104T0002.nc\n",
      "Processing file: C:\\Users\\h.ayat\\Desktop\\Object_tracking\\MRMS-Sample_data\\inputs\\PrecipRate_00.00_20141104-013000_double_double.nc\n",
      "Saved convolved file to: C:\\Users\\h.ayat\\Desktop\\Object_tracking\\MRMS-Sample_data\\outputs\\convolved_maps\\convolved_20141104T0102.nc\n",
      "Processing file: C:\\Users\\h.ayat\\Desktop\\Object_tracking\\MRMS-Sample_data\\inputs\\PrecipRate_00.00_20141104-020000_double_double.nc\n",
      "Saved convolved file to: C:\\Users\\h.ayat\\Desktop\\Object_tracking\\MRMS-Sample_data\\outputs\\convolved_maps\\convolved_20141104T0132.nc\n",
      "Processing file: C:\\Users\\h.ayat\\Desktop\\Object_tracking\\MRMS-Sample_data\\inputs\\PrecipRate_00.00_20141104-023000_double_double.nc\n",
      "Saved convolved file to: C:\\Users\\h.ayat\\Desktop\\Object_tracking\\MRMS-Sample_data\\outputs\\convolved_maps\\convolved_20141104T0202.nc\n",
      "Processing file: C:\\Users\\h.ayat\\Desktop\\Object_tracking\\MRMS-Sample_data\\inputs\\PrecipRate_00.00_20141104-030000_double_double.nc\n",
      "Saved convolved file to: C:\\Users\\h.ayat\\Desktop\\Object_tracking\\MRMS-Sample_data\\outputs\\convolved_maps\\convolved_20141104T0232.nc\n",
      "Processing file: C:\\Users\\h.ayat\\Desktop\\Object_tracking\\MRMS-Sample_data\\inputs\\PrecipRate_00.00_20141104-033000_double_double.nc\n",
      "Saved convolved file to: C:\\Users\\h.ayat\\Desktop\\Object_tracking\\MRMS-Sample_data\\outputs\\convolved_maps\\convolved_20141104T0302.nc\n"
     ]
    }
   ],
   "source": [
    "# Step 1 ConvolutionProcessor:\n",
    "import os\n",
    "current_dir = os.getcwd()\n",
    "from MTD.obj_convolution import ConvolutionProcessor\n",
    "\n",
    "input_folder = current_dir + r'\\MRMS-Sample_data\\inputs'\n",
    "output_convolved_folder = current_dir + r'\\MRMS-Sample_data\\outputs\\convolved_maps'\n",
    "input_raster_main_field = 'PrecipRate_0mabovemeansealevel'\n",
    "input_raster_time_field = 'time'\n",
    "R=3\n",
    "Th=0.1\n",
    "\n",
    "processor = ConvolutionProcessor(\n",
    "    input_folder = input_folder,\n",
    "    output_folder = output_convolved_folder,\n",
    "    input_raster_main_field = input_raster_main_field,\n",
    "    input_raster_time_field = input_raster_time_field,\n",
    "    R=3,\n",
    "    Th=0.1\n",
    ")\n",
    "processor.run()"
   ]
  },
  {
   "cell_type": "code",
   "execution_count": 1,
   "metadata": {},
   "outputs": [
    {
     "name": "stdout",
     "output_type": "stream",
     "text": [
      "Year: 2014\n",
      "\tDJF 2014\n",
      "\tMAM 2014\n",
      "\tJJA 2014\n",
      "\tSON 2014\n",
      "Saving file: C:\\Users\\h.ayat\\Desktop\\Object_tracking\\MRMS-Sample_data\\outputs\\merged_convolved_maps\\20141101_1502_20141101_1602.nc\n"
     ]
    },
    {
     "name": "stderr",
     "output_type": "stream",
     "text": [
      "c:\\Users\\h.ayat\\Desktop\\Object_tracking\\MTD\\obj_merging.py:155: UserWarning: Times can't be serialized faithfully to int64 with requested units 'days since 2014-11-01T15:02:00'. Serializing with units 'minutes since 2014-11-01T15:02:00' instead. Set encoding['dtype'] to floating point dtype to serialize with units 'days since 2014-11-01T15:02:00'. Set encoding['units'] to 'minutes since 2014-11-01T15:02:00' to silence this warning .\n",
      "  ds_list[m].to_netcdf(output_file, encoding = self.compress_enchoding(ds_list[m]))\n"
     ]
    },
    {
     "name": "stdout",
     "output_type": "stream",
     "text": [
      "Saving file: C:\\Users\\h.ayat\\Desktop\\Object_tracking\\MRMS-Sample_data\\outputs\\merged_convolved_maps\\20141101_2302_20141102_0402.nc\n"
     ]
    },
    {
     "name": "stderr",
     "output_type": "stream",
     "text": [
      "c:\\Users\\h.ayat\\Desktop\\Object_tracking\\MTD\\obj_merging.py:155: UserWarning: Times can't be serialized faithfully to int64 with requested units 'days since 2014-11-01T15:02:00'. Serializing with units 'minutes since 2014-11-01T15:02:00' instead. Set encoding['dtype'] to floating point dtype to serialize with units 'days since 2014-11-01T15:02:00'. Set encoding['units'] to 'minutes since 2014-11-01T15:02:00' to silence this warning .\n",
      "  ds_list[m].to_netcdf(output_file, encoding = self.compress_enchoding(ds_list[m]))\n"
     ]
    },
    {
     "name": "stdout",
     "output_type": "stream",
     "text": [
      "Saving file: C:\\Users\\h.ayat\\Desktop\\Object_tracking\\MRMS-Sample_data\\outputs\\merged_convolved_maps\\20141103_1204_20141103_1204.nc\n"
     ]
    },
    {
     "name": "stderr",
     "output_type": "stream",
     "text": [
      "c:\\Users\\h.ayat\\Desktop\\Object_tracking\\MTD\\obj_merging.py:155: UserWarning: Times can't be serialized faithfully to int64 with requested units 'days since 2014-11-01T15:02:00'. Serializing with units 'minutes since 2014-11-01T15:02:00' instead. Set encoding['dtype'] to floating point dtype to serialize with units 'days since 2014-11-01T15:02:00'. Set encoding['units'] to 'minutes since 2014-11-01T15:02:00' to silence this warning .\n",
      "  ds_list[m].to_netcdf(output_file, encoding = self.compress_enchoding(ds_list[m]))\n"
     ]
    },
    {
     "name": "stdout",
     "output_type": "stream",
     "text": [
      "Saving file: C:\\Users\\h.ayat\\Desktop\\Object_tracking\\MRMS-Sample_data\\outputs\\merged_convolved_maps\\20141103_2002_20141104_0232.nc\n"
     ]
    },
    {
     "name": "stderr",
     "output_type": "stream",
     "text": [
      "c:\\Users\\h.ayat\\Desktop\\Object_tracking\\MTD\\obj_merging.py:155: UserWarning: Times can't be serialized faithfully to int64 with requested units 'days since 2014-11-01T15:02:00'. Serializing with units 'minutes since 2014-11-01T15:02:00' instead. Set encoding['dtype'] to floating point dtype to serialize with units 'days since 2014-11-01T15:02:00'. Set encoding['units'] to 'minutes since 2014-11-01T15:02:00' to silence this warning .\n",
      "  ds_list[m].to_netcdf(output_file, encoding = self.compress_enchoding(ds_list[m]))\n"
     ]
    }
   ],
   "source": [
    "# Step 2 MergerProcessor:\n",
    "import os\n",
    "current_dir = os.getcwd()\n",
    "from MTD.obj_merging import MergerProcessor\n",
    "output_convolved_folder = current_dir + r'\\MRMS-Sample_data\\outputs\\convolved_maps'\n",
    "output_merged_maps_folder_address = current_dir + r'\\MRMS-Sample_data\\outputs\\merged_convolved_maps'\n",
    "input_covolved_maps_folder_address = output_convolved_folder\n",
    "processor = MergerProcessor(input_covolved_maps_folder_address, output_merged_maps_folder_address, 2)\n",
    "processor.merge_files_by_season_and_year()\n"
   ]
  },
  {
   "cell_type": "code",
   "execution_count": 2,
   "metadata": {},
   "outputs": [
    {
     "name": "stdout",
     "output_type": "stream",
     "text": [
      "20141101_1502_20141101_1602.nc\n",
      "20141101_2302_20141102_0402.nc\n",
      "20141103_1204_20141103_1204.nc\n",
      "20141103_2002_20141104_0232.nc\n"
     ]
    }
   ],
   "source": [
    "# Step 3 ObjectTrackerProcessor:\n",
    "import os\n",
    "current_dir = os.getcwd()\n",
    "from MTD.obj_saving_trakced import ObjectTrackerProcessor\n",
    "output_merged_maps_folder_address = current_dir + r'\\MRMS-Sample_data\\outputs\\merged_convolved_maps'\n",
    "output_merged_maps_tracked_folder_address = current_dir + r'\\MRMS-Sample_data\\outputs\\merged_convolved_maps_tracked'\n",
    "connections_folder = current_dir + r'\\MRMS-Sample_data\\outputs\\connections_folder'\n",
    "processor = ObjectTrackerProcessor(output_merged_maps_folder_address, output_merged_maps_tracked_folder_address, connections_folder)\n",
    "processor.process_files()"
   ]
  },
  {
   "cell_type": "code",
   "execution_count": 3,
   "metadata": {},
   "outputs": [
    {
     "name": "stdout",
     "output_type": "stream",
     "text": [
      "20141101_1502_20141101_1602.nc\n",
      "SON\n",
      "20141101_2302_20141102_0402.nc\n",
      "SON\n",
      "20141103_2002_20141104_0232.nc\n",
      "SON\n"
     ]
    }
   ],
   "source": [
    "# Step 4 ObjectPropertiesProcessor:\n",
    "import os\n",
    "current_dir = os.getcwd()\n",
    "from pathlib import Path\n",
    "from MTD.obj_object_analysis import ObjectPropertiesProcessor\n",
    "output_merged_maps_tracked_folder_address = current_dir + r'\\MRMS-Sample_data\\outputs\\merged_convolved_maps_tracked'\n",
    "output_folder_snapshots = current_dir + r'\\MRMS-Sample_data\\outputs\\objects\\snapshot_properties'\n",
    "output_folder_averages = current_dir + r'\\MRMS-Sample_data\\outputs\\objects\\averaged_properties'\n",
    "smaple_raw_data_address = Path(current_dir + r'\\MRMS-Sample_data\\inputs\\PrecipRate_00.00_20141101-153000_double_double.nc')\n",
    "input_raster_main_field = 'PrecipRate_0mabovemeansealevel'\n",
    "processor = ObjectPropertiesProcessor(\n",
    "    merged_folder=output_merged_maps_tracked_folder_address,\n",
    "    output_folder_snapshots=output_folder_snapshots,\n",
    "    output_folder_averages=output_folder_averages,\n",
    "    smaple_raw_data_address = smaple_raw_data_address,\n",
    "    input_raster_main_field = input_raster_main_field,\n",
    "    area_threshold=1,\n",
    "    pixel_resolution=10,\n",
    "    time_resolution=30\n",
    ")\n",
    "processor.process_files()\n"
   ]
  },
  {
   "cell_type": "code",
   "execution_count": 4,
   "metadata": {},
   "outputs": [
    {
     "name": "stdout",
     "output_type": "stream",
     "text": [
      "SON Creating Graphs: 10000\n",
      "SON Creating Graphs: 20000\n",
      "SON analysing groups: 1000 from 3995\n",
      "SON analysing groups: 2000 from 3995\n",
      "SON analysing groups: 3000 from 3995\n"
     ]
    }
   ],
   "source": [
    "# Step 5 SystemPropertiesProcessor:\n",
    "import os\n",
    "current_dir = os.getcwd()\n",
    "from MTD.obj_system_analysis import SystemPropertiesProcessor\n",
    "output_folder_snapshots = current_dir + r'\\MRMS-Sample_data\\outputs\\Objects\\snapshot_properties'\n",
    "output_folder_averages = current_dir + r'\\MRMS-Sample_data\\outputs\\Objects\\averaged_properties'\n",
    "output_path = current_dir + r'\\MRMS-Sample_data\\outputs\\systems'\n",
    "connection_path = current_dir + r'\\MRMS-Sample_data\\outputs\\connections_folder'\n",
    "processor = SystemPropertiesProcessor(output_folder_snapshots,\n",
    "                                      output_folder_averages,\n",
    "                                      output_path,\n",
    "                                      connection_path)\n",
    "processor.run_analysis()\n"
   ]
  }
 ],
 "metadata": {
  "kernelspec": {
   "display_name": "base",
   "language": "python",
   "name": "python3"
  },
  "language_info": {
   "codemirror_mode": {
    "name": "ipython",
    "version": 3
   },
   "file_extension": ".py",
   "mimetype": "text/x-python",
   "name": "python",
   "nbconvert_exporter": "python",
   "pygments_lexer": "ipython3",
   "version": "3.12.3"
  }
 },
 "nbformat": 4,
 "nbformat_minor": 2
}
