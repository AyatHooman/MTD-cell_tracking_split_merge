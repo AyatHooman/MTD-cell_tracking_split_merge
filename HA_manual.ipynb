{
 "cells": [
  {
   "cell_type": "code",
   "execution_count": null,
   "metadata": {},
   "outputs": [],
   "source": [
    "# Title: MTD-SplitMerge Processing Script\n",
    "# Author: Hooman Ayat\n",
    "# Email: hooman.ayat86@gmail.com\n",
    "# Date Created: 2024-10-18\n",
    "# Last Modified: 2024-10-18\n",
    "\n",
    "# Description:\n",
    "# Step 1 ConvolutionProcessor: Create Convolved Maps in Separate Files\n",
    "# - Separate the inputs into multiple files, each of which should have one timestep. However, the sperated files should have time dimension. \n",
    "# - Note: This is a prepropeccsing step that you may have to this yourself!\n",
    "\n",
    "# Step 2 MergerProcessor: Merge the Convolved Maps\n",
    "# - After creating the convolved maps, merge them all together.\n",
    "# - Note: Merging is limited to each season in every year to avoid producing oversized files.\n",
    "\n",
    "# Step 3 ObjectTrackerProcessor: Track Objects Using the Label Package\n",
    "# - Run the label package on the merged outputs to track the objects.\n",
    "# - The output will include two folders:\n",
    "#   1) A folder containing the labeled merged outputs.\n",
    "#   2) A folder with information regarding the splitting and merging of objects.\n",
    "\n",
    "# Step 4 ObjectPropertiesProcessor: Calculate Object Properties\n",
    "# - In this step, calculate properties of individual objects, such as area, shape, and intensity.\n",
    "\n",
    "# Step 5 SystemPropertiesProcessor: Calculate System Properties\n",
    "# - In this step, calculate properties of the overall system, including velocity and direction.\n",
    "\n",
    "# References:\n",
    "# - https://link.springer.com/article/10.1007/s00382-022-06404-z\n",
    "# - https://journals.ametsoc.org/view/journals/hydr/22/1/jhm-d-20-0187.1.xml\n",
    "# - https://www.science.org/doi/abs/10.1126/science.abn8657\n",
    "\n",
    "# If you have any questions, please contact me at: hooman.ayat86@gmail.com\n"
   ]
  },
  {
   "cell_type": "code",
   "execution_count": null,
   "metadata": {},
   "outputs": [],
   "source": [
    "\n",
    "\n",
    "# Step 1 ConvolutionProcessor:\n",
    "from MTD.obj_convolution import ConvolutionProcessor\n",
    "\n",
    "input_folder = r'C:\\Users\\h.ayat\\Desktop\\Object_tracking\\MRMS-Sample_data\\inputs'\n",
    "output_convolved_folder = r'C:\\Users\\h.ayat\\Desktop\\Object_tracking\\MRMS-Sample_data\\outputs\\convolved_maps'\n",
    "input_raster_main_field = 'PrecipRate_0mabovemeansealevel'\n",
    "input_raster_time_field = 'time'\n",
    "R=3\n",
    "Th=0.1\n",
    "\n",
    "processor = ConvolutionProcessor(\n",
    "    input_folder = input_folder,\n",
    "    output_folder = output_convolved_folder,\n",
    "    input_raster_main_field = input_raster_main_field,\n",
    "    input_raster_time_field = input_raster_time_field,\n",
    "    R=3,\n",
    "    Th=0.1\n",
    ")\n",
    "processor.run()"
   ]
  },
  {
   "cell_type": "code",
   "execution_count": 1,
   "metadata": {},
   "outputs": [
    {
     "name": "stdout",
     "output_type": "stream",
     "text": [
      "Year: 2014\n",
      "\tDJF 2014\n",
      "\tMAM 2014\n",
      "\tJJA 2014\n",
      "\tSON 2014\n",
      "Saving file: C:\\Users\\h.ayat\\Desktop\\Object_tracking\\MRMS-Sample_data\\outputs\\merged_convolved_maps\\20141101_1532_20141101_1632.nc\n"
     ]
    },
    {
     "name": "stderr",
     "output_type": "stream",
     "text": [
      "c:\\Users\\h.ayat\\Desktop\\Object_tracking\\MTD\\obj_merging.py:155: UserWarning: Times can't be serialized faithfully to int64 with requested units 'days since 2014-11-01T15:32:00'. Serializing with units 'minutes since 2014-11-01T15:32:00' instead. Set encoding['dtype'] to floating point dtype to serialize with units 'days since 2014-11-01T15:32:00'. Set encoding['units'] to 'minutes since 2014-11-01T15:32:00' to silence this warning .\n",
      "  ds_list[m].to_netcdf(output_file)\n"
     ]
    },
    {
     "name": "stdout",
     "output_type": "stream",
     "text": [
      "Saving file: C:\\Users\\h.ayat\\Desktop\\Object_tracking\\MRMS-Sample_data\\outputs\\merged_convolved_maps\\20141101_2332_20141102_0432.nc\n"
     ]
    },
    {
     "name": "stderr",
     "output_type": "stream",
     "text": [
      "c:\\Users\\h.ayat\\Desktop\\Object_tracking\\MTD\\obj_merging.py:155: UserWarning: Times can't be serialized faithfully to int64 with requested units 'days since 2014-11-01T15:32:00'. Serializing with units 'minutes since 2014-11-01T15:32:00' instead. Set encoding['dtype'] to floating point dtype to serialize with units 'days since 2014-11-01T15:32:00'. Set encoding['units'] to 'minutes since 2014-11-01T15:32:00' to silence this warning .\n",
      "  ds_list[m].to_netcdf(output_file)\n"
     ]
    },
    {
     "name": "stdout",
     "output_type": "stream",
     "text": [
      "Saving file: C:\\Users\\h.ayat\\Desktop\\Object_tracking\\MRMS-Sample_data\\outputs\\merged_convolved_maps\\20141103_1232_20141103_1232.nc\n"
     ]
    },
    {
     "name": "stderr",
     "output_type": "stream",
     "text": [
      "c:\\Users\\h.ayat\\Desktop\\Object_tracking\\MTD\\obj_merging.py:155: UserWarning: Times can't be serialized faithfully to int64 with requested units 'days since 2014-11-01T15:32:00'. Serializing with units 'hours since 2014-11-01T15:32:00' instead. Set encoding['dtype'] to floating point dtype to serialize with units 'days since 2014-11-01T15:32:00'. Set encoding['units'] to 'hours since 2014-11-01T15:32:00' to silence this warning .\n",
      "  ds_list[m].to_netcdf(output_file)\n"
     ]
    },
    {
     "name": "stdout",
     "output_type": "stream",
     "text": [
      "Saving file: C:\\Users\\h.ayat\\Desktop\\Object_tracking\\MRMS-Sample_data\\outputs\\merged_convolved_maps\\20141103_2032_20141104_0302.nc\n"
     ]
    },
    {
     "name": "stderr",
     "output_type": "stream",
     "text": [
      "c:\\Users\\h.ayat\\Desktop\\Object_tracking\\MTD\\obj_merging.py:155: UserWarning: Times can't be serialized faithfully to int64 with requested units 'days since 2014-11-01T15:32:00'. Serializing with units 'minutes since 2014-11-01T15:32:00' instead. Set encoding['dtype'] to floating point dtype to serialize with units 'days since 2014-11-01T15:32:00'. Set encoding['units'] to 'minutes since 2014-11-01T15:32:00' to silence this warning .\n",
      "  ds_list[m].to_netcdf(output_file)\n"
     ]
    }
   ],
   "source": [
    "# Step 2 MergerProcessor:\n",
    "from MTD.obj_merging import MergerProcessor\n",
    "output_convolved_folder = r'C:\\Users\\h.ayat\\Desktop\\Object_tracking\\MRMS-Sample_data\\outputs\\convolved_maps'\n",
    "output_merged_maps_folder_address = r'C:\\Users\\h.ayat\\Desktop\\Object_tracking\\MRMS-Sample_data\\outputs\\merged_convolved_maps'\n",
    "input_covolved_maps_folder_address = output_convolved_folder\n",
    "processor = MergerProcessor(input_covolved_maps_folder_address, output_merged_maps_folder_address, 2)\n",
    "processor.merge_files_by_season_and_year()\n"
   ]
  },
  {
   "cell_type": "code",
   "execution_count": 1,
   "metadata": {},
   "outputs": [
    {
     "name": "stdout",
     "output_type": "stream",
     "text": [
      "20141101_1532_20141101_1632.nc\n",
      "20141101_2332_20141102_0432.nc\n",
      "20141103_1232_20141103_1232.nc\n",
      "20141103_2032_20141104_0302.nc\n"
     ]
    }
   ],
   "source": [
    "# Step 3 ObjectTrackerProcessor:\n",
    "from MTD.obj_saving_trakced import ObjectTrackerProcessor\n",
    "output_merged_maps_folder_address = r'C:\\Users\\h.ayat\\Desktop\\Object_tracking\\MRMS-Sample_data\\outputs\\merged_convolved_maps'\n",
    "output_merged_maps_tracked_folder_address = r'C:\\Users\\h.ayat\\Desktop\\Object_tracking\\MRMS-Sample_data\\outputs\\merged_convolved_maps_tracked'\n",
    "connections_folder = r'C:\\Users\\h.ayat\\Desktop\\Object_tracking\\MRMS-Sample_data\\outputs\\connections_folder'\n",
    "processor = ObjectTrackerProcessor(output_merged_maps_folder_address, output_merged_maps_tracked_folder_address, connections_folder)\n",
    "processor.process_files()"
   ]
  },
  {
   "cell_type": "code",
   "execution_count": 3,
   "metadata": {},
   "outputs": [
    {
     "name": "stdout",
     "output_type": "stream",
     "text": [
      "20141101_1532_20141101_1632.nc\n",
      "SON\n",
      "20141101_2332_20141102_0432.nc\n",
      "SON\n",
      "20141103_2032_20141104_0302.nc\n",
      "SON\n"
     ]
    },
    {
     "ename": "KeyboardInterrupt",
     "evalue": "",
     "output_type": "error",
     "traceback": [
      "\u001b[1;31m---------------------------------------------------------------------------\u001b[0m",
      "\u001b[1;31mKeyboardInterrupt\u001b[0m                         Traceback (most recent call last)",
      "Cell \u001b[1;32mIn[3], line 18\u001b[0m\n\u001b[0;32m      7\u001b[0m input_raster_main_field \u001b[38;5;241m=\u001b[39m \u001b[38;5;124m'\u001b[39m\u001b[38;5;124mPrecipRate_0mabovemeansealevel\u001b[39m\u001b[38;5;124m'\u001b[39m\n\u001b[0;32m      8\u001b[0m processor \u001b[38;5;241m=\u001b[39m ObjectPropertiesProcessor(\n\u001b[0;32m      9\u001b[0m     merged_folder\u001b[38;5;241m=\u001b[39moutput_merged_maps_tracked_folder_address,\n\u001b[0;32m     10\u001b[0m     output_folder_snapshots\u001b[38;5;241m=\u001b[39moutput_folder_snapshots,\n\u001b[1;32m   (...)\u001b[0m\n\u001b[0;32m     16\u001b[0m     time_resolution\u001b[38;5;241m=\u001b[39m\u001b[38;5;241m30\u001b[39m\n\u001b[0;32m     17\u001b[0m )\n\u001b[1;32m---> 18\u001b[0m \u001b[43mprocessor\u001b[49m\u001b[38;5;241;43m.\u001b[39;49m\u001b[43mprocess_files\u001b[49m\u001b[43m(\u001b[49m\u001b[43m)\u001b[49m\n",
      "File \u001b[1;32mc:\\Users\\h.ayat\\Desktop\\Object_tracking\\MTD\\obj_object_analysis.py:390\u001b[0m, in \u001b[0;36mObjectPropertiesProcessor.process_files\u001b[1;34m(self)\u001b[0m\n\u001b[0;32m    388\u001b[0m \u001b[38;5;28;01mif\u001b[39;00m np\u001b[38;5;241m.\u001b[39msum(MTD_Cube_seasonal) \u001b[38;5;241m!=\u001b[39m \u001b[38;5;241m0\u001b[39m:\n\u001b[0;32m    389\u001b[0m     \u001b[38;5;28mprint\u001b[39m(seasons[i])\n\u001b[1;32m--> 390\u001b[0m     results \u001b[38;5;241m=\u001b[39m \u001b[38;5;28;43mself\u001b[39;49m\u001b[38;5;241;43m.\u001b[39;49m\u001b[43mStorm_Info\u001b[49m\u001b[43m(\u001b[49m\n\u001b[0;32m    391\u001b[0m \u001b[43m        \u001b[49m\u001b[43mMTD_Cube_seasonal\u001b[49m\u001b[43m,\u001b[49m\u001b[43m \u001b[49m\u001b[43mRaw_Cube\u001b[49m\u001b[43m,\u001b[49m\u001b[43m \u001b[49m\u001b[43mdetlta_t\u001b[49m\u001b[43m,\u001b[49m\u001b[43m \u001b[49m\u001b[43mdates_array\u001b[49m\u001b[43m)\u001b[49m\n\u001b[0;32m    392\u001b[0m     (NoH_touched_list, NoH_obj_touched_list, NoH_d_list, NoH_obj_centroid_list,\n\u001b[0;32m    393\u001b[0m      NoH_centroid_list, NoH_obj_dates_list, NoH_dates_list, NoH_label_list,\n\u001b[0;32m    394\u001b[0m      NoH_obj_label_list, NoH_obj_aspectratio_list, NoH_aspectratio_list,\n\u001b[0;32m    395\u001b[0m      NoH_dir_list, NoH_obj_area_list, NoH_a_list, NoH_obj_Iv_list, NoH_Iv_list,\n\u001b[0;32m    396\u001b[0m      NoH_obj_Ismax_list, NoH_Ismax_list, NoH_v_list, NoH_obj_orientation_list,\n\u001b[0;32m    397\u001b[0m      NoH_orientation_list) \u001b[38;5;241m=\u001b[39m results\n\u001b[0;32m    399\u001b[0m     \u001b[38;5;66;03m# Aggregate results for the season\u001b[39;00m\n",
      "File \u001b[1;32mc:\\Users\\h.ayat\\Desktop\\Object_tracking\\MTD\\obj_object_analysis.py:202\u001b[0m, in \u001b[0;36mObjectPropertiesProcessor.Storm_Info\u001b[1;34m(self, MTD_Cube, Raw_Cube, dt, dates_array)\u001b[0m\n\u001b[0;32m    200\u001b[0m image[image \u001b[38;5;241m!=\u001b[39m lb] \u001b[38;5;241m=\u001b[39m \u001b[38;5;241m0\u001b[39m\n\u001b[0;32m    201\u001b[0m image[image \u001b[38;5;241m==\u001b[39m lb] \u001b[38;5;241m=\u001b[39m \u001b[38;5;241m1\u001b[39m\n\u001b[1;32m--> 202\u001b[0m NoH_obj_Ismax_list\u001b[38;5;241m.\u001b[39mappend(\u001b[43mnp\u001b[49m\u001b[38;5;241;43m.\u001b[39;49m\u001b[43mmax\u001b[49m\u001b[43m(\u001b[49m\u001b[43mimage\u001b[49m\u001b[43m \u001b[49m\u001b[38;5;241;43m*\u001b[39;49m\u001b[43m \u001b[49m\u001b[43mDatalist\u001b[49m\u001b[43m[\u001b[49m\u001b[43mi\u001b[49m\u001b[43m]\u001b[49m\u001b[43m)\u001b[49m)\n\u001b[0;32m    203\u001b[0m NoH_obj_Iv_list\u001b[38;5;241m.\u001b[39mappend(np\u001b[38;5;241m.\u001b[39msum(image \u001b[38;5;241m*\u001b[39m Datalist[i]) \u001b[38;5;241m*\u001b[39m \u001b[38;5;241m1000\u001b[39m)\n\u001b[0;32m    204\u001b[0m aspect_ratio \u001b[38;5;241m=\u001b[39m prop\u001b[38;5;241m.\u001b[39mminor_axis_length \u001b[38;5;241m/\u001b[39m prop\u001b[38;5;241m.\u001b[39mmajor_axis_length\n",
      "File \u001b[1;32mc:\\Users\\h.ayat\\AppData\\Local\\miniconda3\\Lib\\site-packages\\numpy\\core\\fromnumeric.py:2687\u001b[0m, in \u001b[0;36m_max_dispatcher\u001b[1;34m(a, axis, out, keepdims, initial, where)\u001b[0m\n\u001b[0;32m   2683\u001b[0m             \u001b[38;5;28;01mreturn\u001b[39;00m ptp(axis\u001b[38;5;241m=\u001b[39maxis, out\u001b[38;5;241m=\u001b[39mout, \u001b[38;5;241m*\u001b[39m\u001b[38;5;241m*\u001b[39mkwargs)\n\u001b[0;32m   2684\u001b[0m     \u001b[38;5;28;01mreturn\u001b[39;00m _methods\u001b[38;5;241m.\u001b[39m_ptp(a, axis\u001b[38;5;241m=\u001b[39maxis, out\u001b[38;5;241m=\u001b[39mout, \u001b[38;5;241m*\u001b[39m\u001b[38;5;241m*\u001b[39mkwargs)\n\u001b[1;32m-> 2687\u001b[0m \u001b[38;5;28;01mdef\u001b[39;00m \u001b[38;5;21m_max_dispatcher\u001b[39m(a, axis\u001b[38;5;241m=\u001b[39m\u001b[38;5;28;01mNone\u001b[39;00m, out\u001b[38;5;241m=\u001b[39m\u001b[38;5;28;01mNone\u001b[39;00m, keepdims\u001b[38;5;241m=\u001b[39m\u001b[38;5;28;01mNone\u001b[39;00m, initial\u001b[38;5;241m=\u001b[39m\u001b[38;5;28;01mNone\u001b[39;00m,\n\u001b[0;32m   2688\u001b[0m                     where\u001b[38;5;241m=\u001b[39m\u001b[38;5;28;01mNone\u001b[39;00m):\n\u001b[0;32m   2689\u001b[0m     \u001b[38;5;28;01mreturn\u001b[39;00m (a, out)\n\u001b[0;32m   2692\u001b[0m \u001b[38;5;129m@array_function_dispatch\u001b[39m(_max_dispatcher)\n\u001b[0;32m   2693\u001b[0m \u001b[38;5;129m@set_module\u001b[39m(\u001b[38;5;124m'\u001b[39m\u001b[38;5;124mnumpy\u001b[39m\u001b[38;5;124m'\u001b[39m)\n\u001b[0;32m   2694\u001b[0m \u001b[38;5;28;01mdef\u001b[39;00m \u001b[38;5;21mmax\u001b[39m(a, axis\u001b[38;5;241m=\u001b[39m\u001b[38;5;28;01mNone\u001b[39;00m, out\u001b[38;5;241m=\u001b[39m\u001b[38;5;28;01mNone\u001b[39;00m, keepdims\u001b[38;5;241m=\u001b[39mnp\u001b[38;5;241m.\u001b[39m_NoValue, initial\u001b[38;5;241m=\u001b[39mnp\u001b[38;5;241m.\u001b[39m_NoValue,\n\u001b[0;32m   2695\u001b[0m          where\u001b[38;5;241m=\u001b[39mnp\u001b[38;5;241m.\u001b[39m_NoValue):\n",
      "\u001b[1;31mKeyboardInterrupt\u001b[0m: "
     ]
    }
   ],
   "source": [
    "# Step 4 ObjectPropertiesProcessor:\n",
    "from pathlib import Path\n",
    "from MTD.obj_object_analysis import ObjectPropertiesProcessor\n",
    "output_merged_maps_tracked_folder_address = r'C:\\Users\\h.ayat\\Desktop\\Object_tracking\\MRMS-Sample_data\\outputs\\merged_convolved_maps_tracked'\n",
    "output_folder_snapshots = r'C:\\Users\\h.ayat\\Desktop\\Object_tracking\\MRMS-Sample_data\\outputs\\objects\\snapshot_properties'\n",
    "output_folder_averages = r'C:\\Users\\h.ayat\\Desktop\\Object_tracking\\MRMS-Sample_data\\outputs\\objects\\averaged_properties'\n",
    "smaple_raw_data_address = Path(r'C:\\Users\\h.ayat\\Desktop\\Object_tracking\\MRMS-Sample_data\\inputs\\PrecipRate_00.00_20141101-153000_double_double.nc')\n",
    "input_raster_main_field = 'PrecipRate_0mabovemeansealevel'\n",
    "processor = ObjectPropertiesProcessor(\n",
    "    merged_folder=output_merged_maps_tracked_folder_address,\n",
    "    output_folder_snapshots=output_folder_snapshots,\n",
    "    output_folder_averages=output_folder_averages,\n",
    "    smaple_raw_data_address = smaple_raw_data_address,\n",
    "    input_raster_main_field = input_raster_main_field,\n",
    "    area_threshold=1,\n",
    "    pixel_resolution=10,\n",
    "    time_resolution=30\n",
    ")\n",
    "processor.process_files()\n"
   ]
  },
  {
   "cell_type": "code",
   "execution_count": 2,
   "metadata": {},
   "outputs": [],
   "source": [
    "# Step 5 SystemPropertiesProcessor:\n",
    "from MTD.obj_system_analysis import SystemPropertiesProcessor\n",
    "output_folder_snapshots = r'C:\\Users\\h.ayat\\Desktop\\Object_tracking\\MRMS-Sample_data\\outputs\\Objects\\snapshot_properties'\n",
    "output_folder_averages = r'C:\\Users\\h.ayat\\Desktop\\Object_tracking\\MRMS-Sample_data\\outputs\\Objects\\averaged_properties'\n",
    "output_path = r'C:\\Users\\h.ayat\\Desktop\\Object_tracking\\MRMS-Sample_data\\outputs\\systems'\n",
    "connection_path = r'C:\\Users\\h.ayat\\Desktop\\Object_tracking\\MRMS-Sample_data\\outputs\\connections_folder'\n",
    "processor = SystemPropertiesProcessor(output_folder_snapshots,\n",
    "                                      output_folder_averages,\n",
    "                                      output_path,\n",
    "                                      connection_path)\n",
    "processor.run_analysis()\n"
   ]
  },
  {
   "cell_type": "code",
   "execution_count": null,
   "metadata": {},
   "outputs": [],
   "source": []
  }
 ],
 "metadata": {
  "kernelspec": {
   "display_name": "base",
   "language": "python",
   "name": "python3"
  },
  "language_info": {
   "codemirror_mode": {
    "name": "ipython",
    "version": 3
   },
   "file_extension": ".py",
   "mimetype": "text/x-python",
   "name": "python",
   "nbconvert_exporter": "python",
   "pygments_lexer": "ipython3",
   "version": "3.12.3"
  }
 },
 "nbformat": 4,
 "nbformat_minor": 2
}
