{
 "cells": [
  {
   "cell_type": "code",
   "execution_count": 1,
   "metadata": {},
   "outputs": [],
   "source": [
    "# Title: MTD-SplitMerge Processing Script\n",
    "# Author: Hooman Ayat\n",
    "# Email: hooman.ayat86@gmail.com\n",
    "# Date Created: 2024-10-18\n",
    "# Last Modified: 2024-10-18\n",
    "\n",
    "# Description:\n",
    "# Step 1 ConvolutionProcessor: Create Convolved Maps in Separate Files\n",
    "# - Separate the inputs into multiple files, each of which should have one timestep. However, the sperated files should have time dimension. \n",
    "# - Note: This is a prepropeccsing step that you may have to this yourself!\n",
    "\n",
    "# Step 2 MergerProcessor: Merge the Convolved Maps\n",
    "# - After creating the convolved maps, merge them all together.\n",
    "# - Note: Merging is limited to each season in every year to avoid producing oversized files.\n",
    "\n",
    "# Step 3 ObjectTrackerProcessor: Track Objects Using the Label Package\n",
    "# - Run the label package on the merged outputs to track the objects.\n",
    "# - The output will include two folders:\n",
    "#   1) A folder containing the labeled merged outputs.\n",
    "#   2) A folder with information regarding the splitting and merging of objects.\n",
    "\n",
    "# Step 4 ObjectPropertiesProcessor: Calculate Object Properties\n",
    "# - In this step, calculate properties of individual objects, such as area, shape, and intensity.\n",
    "\n",
    "# Step 5 SystemPropertiesProcessor: Calculate System Properties\n",
    "# - In this step, calculate properties of the overall system, including velocity and direction.\n",
    "\n",
    "# References:\n",
    "# - https://link.springer.com/article/10.1007/s00382-022-06404-z\n",
    "# - https://journals.ametsoc.org/view/journals/hydr/22/1/jhm-d-20-0187.1.xml\n",
    "# - https://www.science.org/doi/abs/10.1126/science.abn8657\n",
    "\n",
    "# If you have any questions, please contact me at: hooman.ayat86@gmail.com\n"
   ]
  },
  {
   "cell_type": "code",
   "execution_count": 1,
   "metadata": {},
   "outputs": [
    {
     "name": "stdout",
     "output_type": "stream",
     "text": [
      "Processing file: C:\\Users\\h.ayat\\Desktop\\Object_tracking\\MRMS-Sample_data\\inputs\\PrecipRate_00.00_20141101-153000_double_double.nc\n",
      "Saved convolved file to: C:\\Users\\h.ayat\\Desktop\\Object_tracking\\MRMS-Sample_data\\outputs\\convolved_maps\\convolved_20141101T1502.nc\n",
      "Processing file: C:\\Users\\h.ayat\\Desktop\\Object_tracking\\MRMS-Sample_data\\inputs\\PrecipRate_00.00_20141101-160000_double_double.nc\n",
      "Saved convolved file to: C:\\Users\\h.ayat\\Desktop\\Object_tracking\\MRMS-Sample_data\\outputs\\convolved_maps\\convolved_20141101T1532.nc\n",
      "Processing file: C:\\Users\\h.ayat\\Desktop\\Object_tracking\\MRMS-Sample_data\\inputs\\PrecipRate_00.00_20141101-163000_double_double.nc\n",
      "Saved convolved file to: C:\\Users\\h.ayat\\Desktop\\Object_tracking\\MRMS-Sample_data\\outputs\\convolved_maps\\convolved_20141101T1602.nc\n",
      "Processing file: C:\\Users\\h.ayat\\Desktop\\Object_tracking\\MRMS-Sample_data\\inputs\\PrecipRate_00.00_20141101-233000_double_double.nc\n",
      "Saved convolved file to: C:\\Users\\h.ayat\\Desktop\\Object_tracking\\MRMS-Sample_data\\outputs\\convolved_maps\\convolved_20141101T2302.nc\n",
      "Processing file: C:\\Users\\h.ayat\\Desktop\\Object_tracking\\MRMS-Sample_data\\inputs\\PrecipRate_00.00_20141102-000000_double_double.nc\n",
      "Saved convolved file to: C:\\Users\\h.ayat\\Desktop\\Object_tracking\\MRMS-Sample_data\\outputs\\convolved_maps\\convolved_20141101T2332.nc\n",
      "Processing file: C:\\Users\\h.ayat\\Desktop\\Object_tracking\\MRMS-Sample_data\\inputs\\PrecipRate_00.00_20141102-003000_double_double.nc\n",
      "Saved convolved file to: C:\\Users\\h.ayat\\Desktop\\Object_tracking\\MRMS-Sample_data\\outputs\\convolved_maps\\convolved_20141102T0002.nc\n",
      "Processing file: C:\\Users\\h.ayat\\Desktop\\Object_tracking\\MRMS-Sample_data\\inputs\\PrecipRate_00.00_20141102-013000_double_double.nc\n",
      "Saved convolved file to: C:\\Users\\h.ayat\\Desktop\\Object_tracking\\MRMS-Sample_data\\outputs\\convolved_maps\\convolved_20141102T0102.nc\n",
      "Processing file: C:\\Users\\h.ayat\\Desktop\\Object_tracking\\MRMS-Sample_data\\inputs\\PrecipRate_00.00_20141102-023000_double_double.nc\n",
      "Saved convolved file to: C:\\Users\\h.ayat\\Desktop\\Object_tracking\\MRMS-Sample_data\\outputs\\convolved_maps\\convolved_20141102T0202.nc\n",
      "Processing file: C:\\Users\\h.ayat\\Desktop\\Object_tracking\\MRMS-Sample_data\\inputs\\PrecipRate_00.00_20141102-030000_double_double.nc\n",
      "Saved convolved file to: C:\\Users\\h.ayat\\Desktop\\Object_tracking\\MRMS-Sample_data\\outputs\\convolved_maps\\convolved_20141102T0232.nc\n",
      "Processing file: C:\\Users\\h.ayat\\Desktop\\Object_tracking\\MRMS-Sample_data\\inputs\\PrecipRate_00.00_20141102-033000_double_double.nc\n",
      "Saved convolved file to: C:\\Users\\h.ayat\\Desktop\\Object_tracking\\MRMS-Sample_data\\outputs\\convolved_maps\\convolved_20141102T0302.nc\n",
      "Processing file: C:\\Users\\h.ayat\\Desktop\\Object_tracking\\MRMS-Sample_data\\inputs\\PrecipRate_00.00_20141102-043000_double_double.nc\n",
      "Saved convolved file to: C:\\Users\\h.ayat\\Desktop\\Object_tracking\\MRMS-Sample_data\\outputs\\convolved_maps\\convolved_20141102T0402.nc\n",
      "Processing file: C:\\Users\\h.ayat\\Desktop\\Object_tracking\\MRMS-Sample_data\\inputs\\PrecipRate_00.00_20141103-123000_double_double.nc\n",
      "Saved convolved file to: C:\\Users\\h.ayat\\Desktop\\Object_tracking\\MRMS-Sample_data\\outputs\\convolved_maps\\convolved_20141103T1204.nc\n",
      "Processing file: C:\\Users\\h.ayat\\Desktop\\Object_tracking\\MRMS-Sample_data\\inputs\\PrecipRate_00.00_20141103-203000_double_double.nc\n",
      "Saved convolved file to: C:\\Users\\h.ayat\\Desktop\\Object_tracking\\MRMS-Sample_data\\outputs\\convolved_maps\\convolved_20141103T2002.nc\n",
      "Processing file: C:\\Users\\h.ayat\\Desktop\\Object_tracking\\MRMS-Sample_data\\inputs\\PrecipRate_00.00_20141103-210000_double_double.nc\n",
      "Saved convolved file to: C:\\Users\\h.ayat\\Desktop\\Object_tracking\\MRMS-Sample_data\\outputs\\convolved_maps\\convolved_20141103T2032.nc\n",
      "Processing file: C:\\Users\\h.ayat\\Desktop\\Object_tracking\\MRMS-Sample_data\\inputs\\PrecipRate_00.00_20141103-220000_double_double.nc\n",
      "Saved convolved file to: C:\\Users\\h.ayat\\Desktop\\Object_tracking\\MRMS-Sample_data\\outputs\\convolved_maps\\convolved_20141103T2132.nc\n",
      "Processing file: C:\\Users\\h.ayat\\Desktop\\Object_tracking\\MRMS-Sample_data\\inputs\\PrecipRate_00.00_20141103-223000_double_double.nc\n",
      "Saved convolved file to: C:\\Users\\h.ayat\\Desktop\\Object_tracking\\MRMS-Sample_data\\outputs\\convolved_maps\\convolved_20141103T2202.nc\n",
      "Processing file: C:\\Users\\h.ayat\\Desktop\\Object_tracking\\MRMS-Sample_data\\inputs\\PrecipRate_00.00_20141103-230000_double_double.nc\n",
      "Saved convolved file to: C:\\Users\\h.ayat\\Desktop\\Object_tracking\\MRMS-Sample_data\\outputs\\convolved_maps\\convolved_20141103T2232.nc\n",
      "Processing file: C:\\Users\\h.ayat\\Desktop\\Object_tracking\\MRMS-Sample_data\\inputs\\PrecipRate_00.00_20141103-233000_double_double.nc\n",
      "Saved convolved file to: C:\\Users\\h.ayat\\Desktop\\Object_tracking\\MRMS-Sample_data\\outputs\\convolved_maps\\convolved_20141103T2302.nc\n",
      "Processing file: C:\\Users\\h.ayat\\Desktop\\Object_tracking\\MRMS-Sample_data\\inputs\\PrecipRate_00.00_20141104-003000_double_double.nc\n",
      "Saved convolved file to: C:\\Users\\h.ayat\\Desktop\\Object_tracking\\MRMS-Sample_data\\outputs\\convolved_maps\\convolved_20141104T0002.nc\n",
      "Processing file: C:\\Users\\h.ayat\\Desktop\\Object_tracking\\MRMS-Sample_data\\inputs\\PrecipRate_00.00_20141104-013000_double_double.nc\n",
      "Saved convolved file to: C:\\Users\\h.ayat\\Desktop\\Object_tracking\\MRMS-Sample_data\\outputs\\convolved_maps\\convolved_20141104T0102.nc\n",
      "Processing file: C:\\Users\\h.ayat\\Desktop\\Object_tracking\\MRMS-Sample_data\\inputs\\PrecipRate_00.00_20141104-020000_double_double.nc\n",
      "Saved convolved file to: C:\\Users\\h.ayat\\Desktop\\Object_tracking\\MRMS-Sample_data\\outputs\\convolved_maps\\convolved_20141104T0132.nc\n",
      "Processing file: C:\\Users\\h.ayat\\Desktop\\Object_tracking\\MRMS-Sample_data\\inputs\\PrecipRate_00.00_20141104-023000_double_double.nc\n",
      "Saved convolved file to: C:\\Users\\h.ayat\\Desktop\\Object_tracking\\MRMS-Sample_data\\outputs\\convolved_maps\\convolved_20141104T0202.nc\n",
      "Processing file: C:\\Users\\h.ayat\\Desktop\\Object_tracking\\MRMS-Sample_data\\inputs\\PrecipRate_00.00_20141104-030000_double_double.nc\n",
      "Saved convolved file to: C:\\Users\\h.ayat\\Desktop\\Object_tracking\\MRMS-Sample_data\\outputs\\convolved_maps\\convolved_20141104T0232.nc\n",
      "Processing file: C:\\Users\\h.ayat\\Desktop\\Object_tracking\\MRMS-Sample_data\\inputs\\PrecipRate_00.00_20141104-033000_double_double.nc\n",
      "Saved convolved file to: C:\\Users\\h.ayat\\Desktop\\Object_tracking\\MRMS-Sample_data\\outputs\\convolved_maps\\convolved_20141104T0302.nc\n"
     ]
    }
   ],
   "source": [
    "\n",
    "\n",
    "# Step 1 ConvolutionProcessor:\n",
    "from MTD.obj_convolution import ConvolutionProcessor\n",
    "\n",
    "input_folder = r'C:\\Users\\h.ayat\\Desktop\\Object_tracking\\MRMS-Sample_data\\inputs'\n",
    "output_convolved_folder = r'C:\\Users\\h.ayat\\Desktop\\Object_tracking\\MRMS-Sample_data\\outputs\\convolved_maps'\n",
    "input_raster_main_field = 'PrecipRate_0mabovemeansealevel'\n",
    "input_raster_time_field = 'time'\n",
    "R=3\n",
    "Th=0.1\n",
    "\n",
    "processor = ConvolutionProcessor(\n",
    "    input_folder = input_folder,\n",
    "    output_folder = output_convolved_folder,\n",
    "    input_raster_main_field = input_raster_main_field,\n",
    "    input_raster_time_field = input_raster_time_field,\n",
    "    R=3,\n",
    "    Th=0.1\n",
    ")\n",
    "processor.run()"
   ]
  },
  {
   "cell_type": "code",
   "execution_count": 3,
   "metadata": {},
   "outputs": [
    {
     "name": "stdout",
     "output_type": "stream",
     "text": [
      "Year: 2014\n",
      "\tDJF 2014\n",
      "\tMAM 2014\n",
      "\tJJA 2014\n",
      "\tSON 2014\n",
      "Saving file: C:\\Users\\h.ayat\\Desktop\\Object_tracking\\MRMS-Sample_data\\outputs\\merged_convolved_maps\\20141101_1502_20141101_1602.nc\n"
     ]
    },
    {
     "ename": "TypeError",
     "evalue": "unhashable type: 'dict'",
     "output_type": "error",
     "traceback": [
      "\u001b[1;31m---------------------------------------------------------------------------\u001b[0m",
      "\u001b[1;31mTypeError\u001b[0m                                 Traceback (most recent call last)",
      "Cell \u001b[1;32mIn[3], line 7\u001b[0m\n\u001b[0;32m      5\u001b[0m input_covolved_maps_folder_address \u001b[38;5;241m=\u001b[39m output_convolved_folder\n\u001b[0;32m      6\u001b[0m processor \u001b[38;5;241m=\u001b[39m MergerProcessor(input_covolved_maps_folder_address, output_merged_maps_folder_address, \u001b[38;5;241m2\u001b[39m)\n\u001b[1;32m----> 7\u001b[0m \u001b[43mprocessor\u001b[49m\u001b[38;5;241;43m.\u001b[39;49m\u001b[43mmerge_files_by_season_and_year\u001b[49m\u001b[43m(\u001b[49m\u001b[43m)\u001b[49m\n",
      "File \u001b[1;32mc:\\Users\\h.ayat\\Desktop\\Object_tracking\\MTD\\obj_merging.py:155\u001b[0m, in \u001b[0;36mMergerProcessor.merge_files_by_season_and_year\u001b[1;34m(self)\u001b[0m\n\u001b[0;32m    152\u001b[0m \u001b[38;5;28mprint\u001b[39m(\u001b[38;5;124mf\u001b[39m\u001b[38;5;124m'\u001b[39m\u001b[38;5;124mSaving file: \u001b[39m\u001b[38;5;132;01m{\u001b[39;00moutput_file\u001b[38;5;132;01m}\u001b[39;00m\u001b[38;5;124m'\u001b[39m)\n\u001b[0;32m    154\u001b[0m \u001b[38;5;66;03m# Save the dataset to a NetCDF file\u001b[39;00m\n\u001b[1;32m--> 155\u001b[0m \u001b[43mds_list\u001b[49m\u001b[43m[\u001b[49m\u001b[43mm\u001b[49m\u001b[43m]\u001b[49m\u001b[38;5;241;43m.\u001b[39;49m\u001b[43mto_netcdf\u001b[49m\u001b[43m(\u001b[49m\u001b[43moutput_file\u001b[49m\u001b[43m,\u001b[49m\u001b[43m \u001b[49m\u001b[38;5;28;43mself\u001b[39;49m\u001b[38;5;241;43m.\u001b[39;49m\u001b[43mcompress_enchoding\u001b[49m\u001b[43m(\u001b[49m\u001b[43mds_list\u001b[49m\u001b[43m[\u001b[49m\u001b[43mm\u001b[49m\u001b[43m]\u001b[49m\u001b[43m)\u001b[49m\u001b[43m)\u001b[49m\n",
      "File \u001b[1;32mc:\\Users\\h.ayat\\AppData\\Local\\miniconda3\\Lib\\site-packages\\xarray\\core\\dataset.py:2327\u001b[0m, in \u001b[0;36mDataset.to_netcdf\u001b[1;34m(self, path, mode, format, group, engine, encoding, unlimited_dims, compute, invalid_netcdf)\u001b[0m\n\u001b[0;32m   2324\u001b[0m     encoding \u001b[38;5;241m=\u001b[39m {}\n\u001b[0;32m   2325\u001b[0m \u001b[38;5;28;01mfrom\u001b[39;00m \u001b[38;5;21;01mxarray\u001b[39;00m\u001b[38;5;21;01m.\u001b[39;00m\u001b[38;5;21;01mbackends\u001b[39;00m\u001b[38;5;21;01m.\u001b[39;00m\u001b[38;5;21;01mapi\u001b[39;00m \u001b[38;5;28;01mimport\u001b[39;00m to_netcdf\n\u001b[1;32m-> 2327\u001b[0m \u001b[38;5;28;01mreturn\u001b[39;00m \u001b[43mto_netcdf\u001b[49m\u001b[43m(\u001b[49m\u001b[43m  \u001b[49m\u001b[38;5;66;43;03m# type: ignore  # mypy cannot resolve the overloads:(\u001b[39;49;00m\n\u001b[0;32m   2328\u001b[0m \u001b[43m    \u001b[49m\u001b[38;5;28;43mself\u001b[39;49m\u001b[43m,\u001b[49m\n\u001b[0;32m   2329\u001b[0m \u001b[43m    \u001b[49m\u001b[43mpath\u001b[49m\u001b[43m,\u001b[49m\n\u001b[0;32m   2330\u001b[0m \u001b[43m    \u001b[49m\u001b[43mmode\u001b[49m\u001b[38;5;241;43m=\u001b[39;49m\u001b[43mmode\u001b[49m\u001b[43m,\u001b[49m\n\u001b[0;32m   2331\u001b[0m \u001b[43m    \u001b[49m\u001b[38;5;28;43mformat\u001b[39;49m\u001b[38;5;241;43m=\u001b[39;49m\u001b[38;5;28;43mformat\u001b[39;49m\u001b[43m,\u001b[49m\n\u001b[0;32m   2332\u001b[0m \u001b[43m    \u001b[49m\u001b[43mgroup\u001b[49m\u001b[38;5;241;43m=\u001b[39;49m\u001b[43mgroup\u001b[49m\u001b[43m,\u001b[49m\n\u001b[0;32m   2333\u001b[0m \u001b[43m    \u001b[49m\u001b[43mengine\u001b[49m\u001b[38;5;241;43m=\u001b[39;49m\u001b[43mengine\u001b[49m\u001b[43m,\u001b[49m\n\u001b[0;32m   2334\u001b[0m \u001b[43m    \u001b[49m\u001b[43mencoding\u001b[49m\u001b[38;5;241;43m=\u001b[39;49m\u001b[43mencoding\u001b[49m\u001b[43m,\u001b[49m\n\u001b[0;32m   2335\u001b[0m \u001b[43m    \u001b[49m\u001b[43munlimited_dims\u001b[49m\u001b[38;5;241;43m=\u001b[39;49m\u001b[43munlimited_dims\u001b[49m\u001b[43m,\u001b[49m\n\u001b[0;32m   2336\u001b[0m \u001b[43m    \u001b[49m\u001b[43mcompute\u001b[49m\u001b[38;5;241;43m=\u001b[39;49m\u001b[43mcompute\u001b[49m\u001b[43m,\u001b[49m\n\u001b[0;32m   2337\u001b[0m \u001b[43m    \u001b[49m\u001b[43mmultifile\u001b[49m\u001b[38;5;241;43m=\u001b[39;49m\u001b[38;5;28;43;01mFalse\u001b[39;49;00m\u001b[43m,\u001b[49m\n\u001b[0;32m   2338\u001b[0m \u001b[43m    \u001b[49m\u001b[43minvalid_netcdf\u001b[49m\u001b[38;5;241;43m=\u001b[39;49m\u001b[43minvalid_netcdf\u001b[49m\u001b[43m,\u001b[49m\n\u001b[0;32m   2339\u001b[0m \u001b[43m\u001b[49m\u001b[43m)\u001b[49m\n",
      "File \u001b[1;32mc:\\Users\\h.ayat\\AppData\\Local\\miniconda3\\Lib\\site-packages\\xarray\\backends\\api.py:1320\u001b[0m, in \u001b[0;36mto_netcdf\u001b[1;34m(dataset, path_or_file, mode, format, group, engine, encoding, unlimited_dims, compute, multifile, invalid_netcdf)\u001b[0m\n\u001b[0;32m   1316\u001b[0m     \u001b[38;5;28;01melse\u001b[39;00m:\n\u001b[0;32m   1317\u001b[0m         \u001b[38;5;28;01mraise\u001b[39;00m \u001b[38;5;167;01mValueError\u001b[39;00m(\n\u001b[0;32m   1318\u001b[0m             \u001b[38;5;124mf\u001b[39m\u001b[38;5;124m\"\u001b[39m\u001b[38;5;124munrecognized option \u001b[39m\u001b[38;5;124m'\u001b[39m\u001b[38;5;124minvalid_netcdf\u001b[39m\u001b[38;5;124m'\u001b[39m\u001b[38;5;124m for engine \u001b[39m\u001b[38;5;132;01m{\u001b[39;00mengine\u001b[38;5;132;01m}\u001b[39;00m\u001b[38;5;124m\"\u001b[39m\n\u001b[0;32m   1319\u001b[0m         )\n\u001b[1;32m-> 1320\u001b[0m store \u001b[38;5;241m=\u001b[39m \u001b[43mstore_open\u001b[49m\u001b[43m(\u001b[49m\u001b[43mtarget\u001b[49m\u001b[43m,\u001b[49m\u001b[43m \u001b[49m\u001b[43mmode\u001b[49m\u001b[43m,\u001b[49m\u001b[43m \u001b[49m\u001b[38;5;28;43mformat\u001b[39;49m\u001b[43m,\u001b[49m\u001b[43m \u001b[49m\u001b[43mgroup\u001b[49m\u001b[43m,\u001b[49m\u001b[43m \u001b[49m\u001b[38;5;241;43m*\u001b[39;49m\u001b[38;5;241;43m*\u001b[39;49m\u001b[43mkwargs\u001b[49m\u001b[43m)\u001b[49m\n\u001b[0;32m   1322\u001b[0m \u001b[38;5;28;01mif\u001b[39;00m unlimited_dims \u001b[38;5;129;01mis\u001b[39;00m \u001b[38;5;28;01mNone\u001b[39;00m:\n\u001b[0;32m   1323\u001b[0m     unlimited_dims \u001b[38;5;241m=\u001b[39m dataset\u001b[38;5;241m.\u001b[39mencoding\u001b[38;5;241m.\u001b[39mget(\u001b[38;5;124m\"\u001b[39m\u001b[38;5;124munlimited_dims\u001b[39m\u001b[38;5;124m\"\u001b[39m, \u001b[38;5;28;01mNone\u001b[39;00m)\n",
      "File \u001b[1;32mc:\\Users\\h.ayat\\AppData\\Local\\miniconda3\\Lib\\site-packages\\xarray\\backends\\netCDF4_.py:405\u001b[0m, in \u001b[0;36mNetCDF4DataStore.open\u001b[1;34m(cls, filename, mode, format, group, clobber, diskless, persist, lock, lock_maker, autoclose)\u001b[0m\n\u001b[0;32m    400\u001b[0m         lock \u001b[38;5;241m=\u001b[39m combine_locks([base_lock, get_write_lock(filename)])\n\u001b[0;32m    402\u001b[0m kwargs \u001b[38;5;241m=\u001b[39m \u001b[38;5;28mdict\u001b[39m(\n\u001b[0;32m    403\u001b[0m     clobber\u001b[38;5;241m=\u001b[39mclobber, diskless\u001b[38;5;241m=\u001b[39mdiskless, persist\u001b[38;5;241m=\u001b[39mpersist, \u001b[38;5;28mformat\u001b[39m\u001b[38;5;241m=\u001b[39m\u001b[38;5;28mformat\u001b[39m\n\u001b[0;32m    404\u001b[0m )\n\u001b[1;32m--> 405\u001b[0m manager \u001b[38;5;241m=\u001b[39m \u001b[43mCachingFileManager\u001b[49m\u001b[43m(\u001b[49m\n\u001b[0;32m    406\u001b[0m \u001b[43m    \u001b[49m\u001b[43mnetCDF4\u001b[49m\u001b[38;5;241;43m.\u001b[39;49m\u001b[43mDataset\u001b[49m\u001b[43m,\u001b[49m\u001b[43m \u001b[49m\u001b[43mfilename\u001b[49m\u001b[43m,\u001b[49m\u001b[43m \u001b[49m\u001b[43mmode\u001b[49m\u001b[38;5;241;43m=\u001b[39;49m\u001b[43mmode\u001b[49m\u001b[43m,\u001b[49m\u001b[43m \u001b[49m\u001b[43mkwargs\u001b[49m\u001b[38;5;241;43m=\u001b[39;49m\u001b[43mkwargs\u001b[49m\n\u001b[0;32m    407\u001b[0m \u001b[43m\u001b[49m\u001b[43m)\u001b[49m\n\u001b[0;32m    408\u001b[0m \u001b[38;5;28;01mreturn\u001b[39;00m \u001b[38;5;28mcls\u001b[39m(manager, group\u001b[38;5;241m=\u001b[39mgroup, mode\u001b[38;5;241m=\u001b[39mmode, lock\u001b[38;5;241m=\u001b[39mlock, autoclose\u001b[38;5;241m=\u001b[39mautoclose)\n",
      "File \u001b[1;32mc:\\Users\\h.ayat\\AppData\\Local\\miniconda3\\Lib\\site-packages\\xarray\\backends\\file_manager.py:148\u001b[0m, in \u001b[0;36mCachingFileManager.__init__\u001b[1;34m(self, opener, mode, kwargs, lock, cache, manager_id, ref_counts, *args)\u001b[0m\n\u001b[0;32m    146\u001b[0m     manager_id \u001b[38;5;241m=\u001b[39m \u001b[38;5;28mstr\u001b[39m(uuid\u001b[38;5;241m.\u001b[39muuid4())\n\u001b[0;32m    147\u001b[0m \u001b[38;5;28mself\u001b[39m\u001b[38;5;241m.\u001b[39m_manager_id \u001b[38;5;241m=\u001b[39m manager_id\n\u001b[1;32m--> 148\u001b[0m \u001b[38;5;28mself\u001b[39m\u001b[38;5;241m.\u001b[39m_key \u001b[38;5;241m=\u001b[39m \u001b[38;5;28;43mself\u001b[39;49m\u001b[38;5;241;43m.\u001b[39;49m\u001b[43m_make_key\u001b[49m\u001b[43m(\u001b[49m\u001b[43m)\u001b[49m\n\u001b[0;32m    150\u001b[0m \u001b[38;5;66;03m# ref_counts[self._key] stores the number of CachingFileManager objects\u001b[39;00m\n\u001b[0;32m    151\u001b[0m \u001b[38;5;66;03m# in memory referencing this same file. We use this to know if we can\u001b[39;00m\n\u001b[0;32m    152\u001b[0m \u001b[38;5;66;03m# close a file when the manager is deallocated.\u001b[39;00m\n\u001b[0;32m    153\u001b[0m \u001b[38;5;28;01mif\u001b[39;00m ref_counts \u001b[38;5;129;01mis\u001b[39;00m \u001b[38;5;28;01mNone\u001b[39;00m:\n",
      "File \u001b[1;32mc:\\Users\\h.ayat\\AppData\\Local\\miniconda3\\Lib\\site-packages\\xarray\\backends\\file_manager.py:167\u001b[0m, in \u001b[0;36mCachingFileManager._make_key\u001b[1;34m(self)\u001b[0m\n\u001b[0;32m    159\u001b[0m \u001b[38;5;250m\u001b[39m\u001b[38;5;124;03m\"\"\"Make a key for caching files in the LRU cache.\"\"\"\u001b[39;00m\n\u001b[0;32m    160\u001b[0m value \u001b[38;5;241m=\u001b[39m (\n\u001b[0;32m    161\u001b[0m     \u001b[38;5;28mself\u001b[39m\u001b[38;5;241m.\u001b[39m_opener,\n\u001b[0;32m    162\u001b[0m     \u001b[38;5;28mself\u001b[39m\u001b[38;5;241m.\u001b[39m_args,\n\u001b[1;32m   (...)\u001b[0m\n\u001b[0;32m    165\u001b[0m     \u001b[38;5;28mself\u001b[39m\u001b[38;5;241m.\u001b[39m_manager_id,\n\u001b[0;32m    166\u001b[0m )\n\u001b[1;32m--> 167\u001b[0m \u001b[38;5;28;01mreturn\u001b[39;00m \u001b[43m_HashedSequence\u001b[49m\u001b[43m(\u001b[49m\u001b[43mvalue\u001b[49m\u001b[43m)\u001b[49m\n",
      "File \u001b[1;32mc:\\Users\\h.ayat\\AppData\\Local\\miniconda3\\Lib\\site-packages\\xarray\\backends\\file_manager.py:333\u001b[0m, in \u001b[0;36m_HashedSequence.__init__\u001b[1;34m(self, tuple_value)\u001b[0m\n\u001b[0;32m    331\u001b[0m \u001b[38;5;28;01mdef\u001b[39;00m \u001b[38;5;21m__init__\u001b[39m(\u001b[38;5;28mself\u001b[39m, tuple_value):\n\u001b[0;32m    332\u001b[0m     \u001b[38;5;28mself\u001b[39m[:] \u001b[38;5;241m=\u001b[39m tuple_value\n\u001b[1;32m--> 333\u001b[0m     \u001b[38;5;28mself\u001b[39m\u001b[38;5;241m.\u001b[39mhashvalue \u001b[38;5;241m=\u001b[39m \u001b[38;5;28;43mhash\u001b[39;49m\u001b[43m(\u001b[49m\u001b[43mtuple_value\u001b[49m\u001b[43m)\u001b[49m\n",
      "\u001b[1;31mTypeError\u001b[0m: unhashable type: 'dict'"
     ]
    }
   ],
   "source": [
    "# Step 2 MergerProcessor:\n",
    "from MTD.obj_merging import MergerProcessor\n",
    "output_convolved_folder = r'C:\\Users\\h.ayat\\Desktop\\Object_tracking\\MRMS-Sample_data\\outputs\\convolved_maps'\n",
    "output_merged_maps_folder_address = r'C:\\Users\\h.ayat\\Desktop\\Object_tracking\\MRMS-Sample_data\\outputs\\merged_convolved_maps'\n",
    "input_covolved_maps_folder_address = output_convolved_folder\n",
    "processor = MergerProcessor(input_covolved_maps_folder_address, output_merged_maps_folder_address, 2)\n",
    "processor.merge_files_by_season_and_year()\n"
   ]
  },
  {
   "cell_type": "code",
   "execution_count": null,
   "metadata": {},
   "outputs": [],
   "source": [
    "# Step 3 ObjectTrackerProcessor:\n",
    "from MTD.obj_saving_trakced import ObjectTrackerProcessor\n",
    "output_merged_maps_folder_address = r'C:\\Users\\h.ayat\\Desktop\\Object_tracking\\MRMS-Sample_data\\outputs\\merged_convolved_maps'\n",
    "output_merged_maps_tracked_folder_address = r'C:\\Users\\h.ayat\\Desktop\\Object_tracking\\MRMS-Sample_data\\outputs\\merged_convolved_maps_tracked'\n",
    "connections_folder = r'C:\\Users\\h.ayat\\Desktop\\Object_tracking\\MRMS-Sample_data\\outputs\\connections_folder'\n",
    "processor = ObjectTrackerProcessor(output_merged_maps_folder_address, output_merged_maps_tracked_folder_address, connections_folder)\n",
    "processor.process_files()"
   ]
  },
  {
   "cell_type": "code",
   "execution_count": null,
   "metadata": {},
   "outputs": [],
   "source": [
    "# Step 4 ObjectPropertiesProcessor:\n",
    "from pathlib import Path\n",
    "from MTD.obj_object_analysis import ObjectPropertiesProcessor\n",
    "output_merged_maps_tracked_folder_address = r'C:\\Users\\h.ayat\\Desktop\\Object_tracking\\MRMS-Sample_data\\outputs\\merged_convolved_maps_tracked'\n",
    "output_folder_snapshots = r'C:\\Users\\h.ayat\\Desktop\\Object_tracking\\MRMS-Sample_data\\outputs\\objects\\snapshot_properties'\n",
    "output_folder_averages = r'C:\\Users\\h.ayat\\Desktop\\Object_tracking\\MRMS-Sample_data\\outputs\\objects\\averaged_properties'\n",
    "smaple_raw_data_address = Path(r'C:\\Users\\h.ayat\\Desktop\\Object_tracking\\MRMS-Sample_data\\inputs\\PrecipRate_00.00_20141101-153000_double_double.nc')\n",
    "input_raster_main_field = 'PrecipRate_0mabovemeansealevel'\n",
    "processor = ObjectPropertiesProcessor(\n",
    "    merged_folder=output_merged_maps_tracked_folder_address,\n",
    "    output_folder_snapshots=output_folder_snapshots,\n",
    "    output_folder_averages=output_folder_averages,\n",
    "    smaple_raw_data_address = smaple_raw_data_address,\n",
    "    input_raster_main_field = input_raster_main_field,\n",
    "    area_threshold=1,\n",
    "    pixel_resolution=10,\n",
    "    time_resolution=30\n",
    ")\n",
    "processor.process_files()\n"
   ]
  },
  {
   "cell_type": "code",
   "execution_count": 2,
   "metadata": {},
   "outputs": [],
   "source": [
    "# Step 5 SystemPropertiesProcessor:\n",
    "from MTD.obj_system_analysis import SystemPropertiesProcessor\n",
    "output_folder_snapshots = r'C:\\Users\\h.ayat\\Desktop\\Object_tracking\\MRMS-Sample_data\\outputs\\Objects\\snapshot_properties'\n",
    "output_folder_averages = r'C:\\Users\\h.ayat\\Desktop\\Object_tracking\\MRMS-Sample_data\\outputs\\Objects\\averaged_properties'\n",
    "output_path = r'C:\\Users\\h.ayat\\Desktop\\Object_tracking\\MRMS-Sample_data\\outputs\\systems'\n",
    "connection_path = r'C:\\Users\\h.ayat\\Desktop\\Object_tracking\\MRMS-Sample_data\\outputs\\connections_folder'\n",
    "processor = SystemPropertiesProcessor(output_folder_snapshots,\n",
    "                                      output_folder_averages,\n",
    "                                      output_path,\n",
    "                                      connection_path)\n",
    "processor.run_analysis()\n"
   ]
  },
  {
   "cell_type": "code",
   "execution_count": null,
   "metadata": {},
   "outputs": [],
   "source": []
  }
 ],
 "metadata": {
  "kernelspec": {
   "display_name": "base",
   "language": "python",
   "name": "python3"
  },
  "language_info": {
   "codemirror_mode": {
    "name": "ipython",
    "version": 3
   },
   "file_extension": ".py",
   "mimetype": "text/x-python",
   "name": "python",
   "nbconvert_exporter": "python",
   "pygments_lexer": "ipython3",
   "version": "3.12.3"
  }
 },
 "nbformat": 4,
 "nbformat_minor": 2
}
